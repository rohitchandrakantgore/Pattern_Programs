{
 "cells": [
  {
   "cell_type": "code",
   "execution_count": 11,
   "metadata": {},
   "outputs": [],
   "source": [
    "height = 4\n",
    "alphabet= \"I\"\n",
    "digit = 9"
   ]
  },
  {
   "cell_type": "code",
   "execution_count": 12,
   "metadata": {},
   "outputs": [
    {
     "name": "stdout",
     "output_type": "stream",
     "text": [
      "* * * * \n",
      " * * * \n",
      "  * * \n",
      "   * \n",
      "\n",
      "I I I I \n",
      " I I I \n",
      "  I I \n",
      "   I \n",
      "\n",
      "9 9 9 9 \n",
      " 9 9 9 \n",
      "  9 9 \n",
      "   9 \n"
     ]
    }
   ],
   "source": [
    "for i in range(height,0,-1):\n",
    "    print(' '*(height-i)+'* '*i )\n",
    "\n",
    "print()\n",
    "\n",
    "for i in range(height,0,-1):\n",
    "    print(\" \"*(height-i) + (alphabet+' ')*i)\n",
    "\n",
    "print()\n",
    "\n",
    "for i in range(height,0,-1):\n",
    "    print(' '*(height-i)+((str(digit)+' ') *i))"
   ]
  },
  {
   "cell_type": "code",
   "execution_count": 13,
   "metadata": {},
   "outputs": [
    {
     "name": "stdout",
     "output_type": "stream",
     "text": [
      "A A A A \n",
      " B B B \n",
      "  C C \n",
      "   D \n",
      "\n",
      "1 1 1 1 \n",
      " 2 2 2 \n",
      "  3 3 \n",
      "   4 \n"
     ]
    }
   ],
   "source": [
    "for i in range(height,0,-1):\n",
    "    print(\" \"*(height-i) + (chr(64+height-i+1)+' ')*i)\n",
    "\n",
    "print()\n",
    "for i in range(height,0,-1):\n",
    "    print(\" \"*(height-i), end='')\n",
    "    for j in range(i):\n",
    "        print(height-i+1, end=' ')\n",
    "    print()\n",
    "\n"
   ]
  },
  {
   "cell_type": "code",
   "execution_count": 14,
   "metadata": {},
   "outputs": [
    {
     "name": "stdout",
     "output_type": "stream",
     "text": [
      "D D D D \n",
      " C C C \n",
      "  B B \n",
      "   A \n",
      "\n",
      "4 4 4 4 \n",
      " 3 3 3 \n",
      "  2 2 \n",
      "   1 \n"
     ]
    }
   ],
   "source": [
    "for i in range(height,0,-1):\n",
    "    print(\" \"*(height-i) + (chr(64+i)+' ')*i)\n",
    "\n",
    "print()\n",
    "\n",
    "for i in range(height,0,-1):\n",
    "    print(\" \"*(height-i), end='')\n",
    "    for j in range(i):\n",
    "        print(i, end=' ')\n",
    "    print()"
   ]
  },
  {
   "cell_type": "code",
   "execution_count": 15,
   "metadata": {},
   "outputs": [
    {
     "name": "stdout",
     "output_type": "stream",
     "text": [
      "A B C D \n",
      " A B C \n",
      "  A B \n",
      "   A \n",
      "\n",
      "1 2 3 4 \n",
      " 1 2 3 \n",
      "  1 2 \n",
      "   1 \n"
     ]
    }
   ],
   "source": [
    "for i in range(height,0,-1):\n",
    "    print(\" \"*(height-i), end='')\n",
    "    for j in range(i):\n",
    "        print(chr(64+j+1), end=' ')\n",
    "    print()\n",
    "\n",
    "print()\n",
    "\n",
    "for i in range(height,0,-1):\n",
    "    print(\" \"*(height-i), end='')\n",
    "    for j in range(i):\n",
    "        print(j+1, end=' ')\n",
    "    print()"
   ]
  },
  {
   "cell_type": "code",
   "execution_count": 16,
   "metadata": {},
   "outputs": [
    {
     "name": "stdout",
     "output_type": "stream",
     "text": [
      "D C B A \n",
      " C B A \n",
      "  B A \n",
      "   A \n",
      "\n",
      "4 3 2 1 \n",
      " 3 2 1 \n",
      "  2 1 \n",
      "   1 \n"
     ]
    }
   ],
   "source": [
    "for i in range(height,0,-1):\n",
    "    print(\" \"*(height-i), end='')\n",
    "    for j in range(i):\n",
    "        print(chr(64+i-j), end=' ')\n",
    "    print()\n",
    "\n",
    "print()\n",
    "\n",
    "for i in range(height,0,-1):\n",
    "    print(\" \"*(height-i), end='')\n",
    "    for j in range(i):\n",
    "        print(i-j, end=' ')\n",
    "    print()"
   ]
  }
 ],
 "metadata": {
  "kernelspec": {
   "display_name": "pythonenv",
   "language": "python",
   "name": "python3"
  },
  "language_info": {
   "codemirror_mode": {
    "name": "ipython",
    "version": 3
   },
   "file_extension": ".py",
   "mimetype": "text/x-python",
   "name": "python",
   "nbconvert_exporter": "python",
   "pygments_lexer": "ipython3",
   "version": "3.11.2"
  },
  "orig_nbformat": 4
 },
 "nbformat": 4,
 "nbformat_minor": 2
}
