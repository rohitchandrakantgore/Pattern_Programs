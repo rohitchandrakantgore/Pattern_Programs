{
 "cells": [
  {
   "cell_type": "code",
   "execution_count": 2,
   "metadata": {},
   "outputs": [],
   "source": [
    "height = 4\n",
    "alphabet= \"I\"\n",
    "digit = 9"
   ]
  },
  {
   "cell_type": "code",
   "execution_count": 2,
   "metadata": {},
   "outputs": [
    {
     "name": "stdout",
     "output_type": "stream",
     "text": [
      "* * * * \n",
      " * * * \n",
      "  * * \n",
      "   * \n"
     ]
    }
   ],
   "source": [
    "for i in range(height,0,-1):\n",
    "    print(' '*(height-i)+'* '*i )"
   ]
  },
  {
   "cell_type": "code",
   "execution_count": 5,
   "metadata": {},
   "outputs": [
    {
     "name": "stdout",
     "output_type": "stream",
     "text": [
      "I I I I \n",
      " I I I \n",
      "  I I \n",
      "   I \n"
     ]
    }
   ],
   "source": [
    "for i in range(height,0,-1):\n",
    "    print(\" \"*(height-i) + (alphabet+' ')*i)"
   ]
  },
  {
   "cell_type": "code",
   "execution_count": 6,
   "metadata": {},
   "outputs": [
    {
     "name": "stdout",
     "output_type": "stream",
     "text": [
      "A A A A \n",
      " B B B \n",
      "  C C \n",
      "   D \n"
     ]
    }
   ],
   "source": [
    "for i in range(height,0,-1):\n",
    "    print(\" \"*(height-i) + (chr(64+height-i+1)+' ')*i)"
   ]
  },
  {
   "cell_type": "code",
   "execution_count": 7,
   "metadata": {},
   "outputs": [
    {
     "name": "stdout",
     "output_type": "stream",
     "text": [
      "D D D D \n",
      " C C C \n",
      "  B B \n",
      "   A \n"
     ]
    }
   ],
   "source": [
    "for i in range(height,0,-1):\n",
    "    print(\" \"*(height-i) + (chr(64+i)+' ')*i)"
   ]
  },
  {
   "cell_type": "code",
   "execution_count": 8,
   "metadata": {},
   "outputs": [
    {
     "name": "stdout",
     "output_type": "stream",
     "text": [
      "A B C D \n",
      " A B C \n",
      "  A B \n",
      "   A \n"
     ]
    }
   ],
   "source": [
    "for i in range(height,0,-1):\n",
    "    print(\" \"*(height-i), end='')\n",
    "    for j in range(i):\n",
    "        print(chr(64+j+1), end=' ')\n",
    "    print()"
   ]
  },
  {
   "cell_type": "code",
   "execution_count": 9,
   "metadata": {},
   "outputs": [
    {
     "name": "stdout",
     "output_type": "stream",
     "text": [
      "D C B A \n",
      " C B A \n",
      "  B A \n",
      "   A \n"
     ]
    }
   ],
   "source": [
    "for i in range(height,0,-1):\n",
    "    print(\" \"*(height-i), end='')\n",
    "    for j in range(i):\n",
    "        print(chr(64+i-j), end=' ')\n",
    "    print()"
   ]
  },
  {
   "cell_type": "code",
   "execution_count": 3,
   "metadata": {},
   "outputs": [
    {
     "name": "stdout",
     "output_type": "stream",
     "text": [
      "9 9 9 9 \n",
      " 9 9 9 \n",
      "  9 9 \n",
      "   9 \n"
     ]
    }
   ],
   "source": [
    "for i in range(height,0,-1):\n",
    "    print(' '*(height-i)+((str(digit)+' ') *i))"
   ]
  },
  {
   "cell_type": "code",
   "execution_count": 4,
   "metadata": {},
   "outputs": [
    {
     "name": "stdout",
     "output_type": "stream",
     "text": [
      "1 2 3 4 \n",
      " 1 2 3 \n",
      "  1 2 \n",
      "   1 \n"
     ]
    }
   ],
   "source": [
    "for i in range(height,0,-1):\n",
    "    print(\" \"*(height-i), end='')\n",
    "    for j in range(i):\n",
    "        print(j+1, end=' ')\n",
    "    print()"
   ]
  },
  {
   "cell_type": "code",
   "execution_count": 5,
   "metadata": {},
   "outputs": [
    {
     "name": "stdout",
     "output_type": "stream",
     "text": [
      "4 3 2 1 \n",
      " 3 2 1 \n",
      "  2 1 \n",
      "   1 \n"
     ]
    }
   ],
   "source": [
    "for i in range(height,0,-1):\n",
    "    print(\" \"*(height-i), end='')\n",
    "    for j in range(i):\n",
    "        print(i-j, end=' ')\n",
    "    print()"
   ]
  },
  {
   "cell_type": "code",
   "execution_count": 6,
   "metadata": {},
   "outputs": [
    {
     "name": "stdout",
     "output_type": "stream",
     "text": [
      "1 1 1 1 \n",
      " 2 2 2 \n",
      "  3 3 \n",
      "   4 \n"
     ]
    }
   ],
   "source": [
    "for i in range(height,0,-1):\n",
    "    print(\" \"*(height-i), end='')\n",
    "    for j in range(i):\n",
    "        print(height-i+1, end=' ')\n",
    "    print()"
   ]
  },
  {
   "cell_type": "code",
   "execution_count": 7,
   "metadata": {},
   "outputs": [
    {
     "name": "stdout",
     "output_type": "stream",
     "text": [
      "4 4 4 4 \n",
      " 3 3 3 \n",
      "  2 2 \n",
      "   1 \n"
     ]
    }
   ],
   "source": [
    "for i in range(height,0,-1):\n",
    "    print(\" \"*(height-i), end='')\n",
    "    for j in range(i):\n",
    "        print(i, end=' ')\n",
    "    print()"
   ]
  }
 ],
 "metadata": {
  "kernelspec": {
   "display_name": "pythonenv",
   "language": "python",
   "name": "python3"
  },
  "language_info": {
   "codemirror_mode": {
    "name": "ipython",
    "version": 3
   },
   "file_extension": ".py",
   "mimetype": "text/x-python",
   "name": "python",
   "nbconvert_exporter": "python",
   "pygments_lexer": "ipython3",
   "version": "3.11.2"
  },
  "orig_nbformat": 4
 },
 "nbformat": 4,
 "nbformat_minor": 2
}
