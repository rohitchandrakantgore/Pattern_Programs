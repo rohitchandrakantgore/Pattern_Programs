{
 "cells": [
  {
   "cell_type": "code",
   "execution_count": 1,
   "metadata": {},
   "outputs": [],
   "source": [
    "height = 5\n",
    "digit= 3\n",
    "alphabet = \"P\""
   ]
  },
  {
   "cell_type": "code",
   "execution_count": 36,
   "metadata": {},
   "outputs": [
    {
     "name": "stdout",
     "output_type": "stream",
     "text": [
      "     * \n",
      "    * * \n",
      "   * * * \n",
      "  * * * * \n",
      " * * * * * \n",
      "    3 \n",
      "   3 3 \n",
      "  3 3 3 \n",
      " 3 3 3 3 \n",
      "3 3 3 3 3 \n",
      "    P \n",
      "   P P \n",
      "  P P P \n",
      " P P P P \n",
      "P P P P P \n"
     ]
    }
   ],
   "source": [
    "for i in range(height):\n",
    "    print(\" \"*(height-i)+'* '*(i+1))\n",
    "\n",
    "for i in range(height):\n",
    "    print(\" \"*(height-i-1)+(str(digit)+' ') *(i+1))\n",
    "\n",
    "for i in range(height):\n",
    "    print(\" \"*(height-i-1)+(alphabet+' ') *(i+1))\n",
    "\n",
    "    \n"
   ]
  },
  {
   "cell_type": "code",
   "execution_count": 33,
   "metadata": {},
   "outputs": [
    {
     "name": "stdout",
     "output_type": "stream",
     "text": [
      "    1 \n",
      "   1 2 \n",
      "  1 2 3 \n",
      " 1 2 3 4 \n",
      "1 2 3 4 5 \n",
      "    A \n",
      "   A B \n",
      "  A B C \n",
      " A B C D \n",
      "A B C D E \n"
     ]
    }
   ],
   "source": [
    "for i in range(height):\n",
    "    print(\" \"*(height-i-1), end='')\n",
    "    for j in range(i+1):\n",
    "        print(str(j+1), end=' ')\n",
    "    print()\n",
    "\n",
    "for i in range(height):\n",
    "    print(\" \"*(height-i-1),end='')\n",
    "    for j in range(i+1):\n",
    "        print(chr(65+j), end=' ')\n",
    "    print()"
   ]
  },
  {
   "cell_type": "code",
   "execution_count": 34,
   "metadata": {},
   "outputs": [
    {
     "name": "stdout",
     "output_type": "stream",
     "text": [
      "    5 \n",
      "   5 4 \n",
      "  5 4 3 \n",
      " 5 4 3 2 \n",
      "5 4 3 2 1 \n",
      "    E \n",
      "   E D \n",
      "  E D C \n",
      " E D C B \n",
      "E D C B A \n"
     ]
    }
   ],
   "source": [
    "for i in range(height):\n",
    "    print(\" \"*(height-i-1), end='')\n",
    "    for j in range(i+1):\n",
    "        print(str(height-j), end=' ')\n",
    "    print()\n",
    "\n",
    "for i in range(height):\n",
    "    print(\" \"*(height-i-1),end='')\n",
    "    for j in range(i+1):\n",
    "        print(chr(64+height-j), end=' ')\n",
    "    print()"
   ]
  },
  {
   "cell_type": "code",
   "execution_count": 31,
   "metadata": {},
   "outputs": [
    {
     "name": "stdout",
     "output_type": "stream",
     "text": [
      "    1 \n",
      "   2 2 \n",
      "  3 3 3 \n",
      " 4 4 4 4 \n",
      "5 5 5 5 5 \n",
      "    A \n",
      "   B B \n",
      "  C C C \n",
      " D D D D \n",
      "E E E E E \n"
     ]
    }
   ],
   "source": [
    "for i in range(height):\n",
    "    print(\" \"*(height-i-1)+(str(i+1)+' ') *(i+1))\n",
    "\n",
    "for i in range(height):\n",
    "    print(\" \"*(height-i-1)+(chr(65+i)+' ') *(i+1))"
   ]
  },
  {
   "cell_type": "code",
   "execution_count": 32,
   "metadata": {},
   "outputs": [
    {
     "name": "stdout",
     "output_type": "stream",
     "text": [
      "    5 \n",
      "   4 4 \n",
      "  3 3 3 \n",
      " 2 2 2 2 \n",
      "1 1 1 1 1 \n",
      "    E \n",
      "   D D \n",
      "  C C C \n",
      " B B B B \n",
      "A A A A A \n"
     ]
    }
   ],
   "source": [
    "for i in range(height):\n",
    "    print(\" \"*(height-i-1)+(str(height-i)+' ') *(i+1))\n",
    "\n",
    "for i in range(height):\n",
    "    print(\" \"*(height-i-1)+(chr(64+height-i)+' ') *(i+1))"
   ]
  },
  {
   "cell_type": "code",
   "execution_count": 28,
   "metadata": {},
   "outputs": [
    {
     "name": "stdout",
     "output_type": "stream",
     "text": [
      "     * \n",
      "    * * \n",
      "   * * * \n",
      "  * * * * \n",
      " * * * * * \n",
      "  * * * * \n",
      "   * * * \n",
      "    * * \n",
      "     * \n",
      "      \n"
     ]
    }
   ],
   "source": [
    "for i in range(height):\n",
    "    print(\" \"*(height-i)+'* '*(i+1))\n",
    "for i in range(1,height+1):\n",
    "    print(\" \"*(i),\"* \"*(height-i))"
   ]
  }
 ],
 "metadata": {
  "kernelspec": {
   "display_name": "pythonenv",
   "language": "python",
   "name": "python3"
  },
  "language_info": {
   "codemirror_mode": {
    "name": "ipython",
    "version": 3
   },
   "file_extension": ".py",
   "mimetype": "text/x-python",
   "name": "python",
   "nbconvert_exporter": "python",
   "pygments_lexer": "ipython3",
   "version": "3.11.2"
  },
  "orig_nbformat": 4
 },
 "nbformat": 4,
 "nbformat_minor": 2
}
