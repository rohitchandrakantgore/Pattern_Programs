{
 "cells": [
  {
   "cell_type": "code",
   "execution_count": 3,
   "metadata": {},
   "outputs": [],
   "source": [
    "height = 5\n",
    "Alphabet = \"R\"\n",
    "Digit = 7"
   ]
  },
  {
   "cell_type": "code",
   "execution_count": 14,
   "metadata": {},
   "outputs": [
    {
     "name": "stdout",
     "output_type": "stream",
     "text": [
      "* \n",
      "* * \n",
      "* * * \n",
      "* * * * \n",
      "* * * * * \n",
      "\n",
      "R \n",
      "R R \n",
      "R R R \n",
      "R R R R \n",
      "R R R R R \n",
      "\n",
      "7 \n",
      "7 7 \n",
      "7 7 7 \n",
      "7 7 7 7 \n",
      "7 7 7 7 7 \n"
     ]
    }
   ],
   "source": [
    "for i in range(height):\n",
    "    print('* '*(i+1))\n",
    "\n",
    "print()\n",
    "\n",
    "for i in range(height):\n",
    "    print( (Alphabet+' ')*(i+1))\n",
    "\n",
    "print()\n",
    "for i in range(height):\n",
    "    print((str(Digit)+' ')*(i+1))"
   ]
  },
  {
   "cell_type": "code",
   "execution_count": 15,
   "metadata": {},
   "outputs": [
    {
     "name": "stdout",
     "output_type": "stream",
     "text": [
      "A \n",
      "A B \n",
      "A B C \n",
      "A B C D \n",
      "A B C D E \n",
      "\n",
      "1 \n",
      "1 2 \n",
      "1 2 3 \n",
      "1 2 3 4 \n",
      "1 2 3 4 5 \n"
     ]
    }
   ],
   "source": [
    "for i in range(1,height+1):\n",
    "    for j in range(i):\n",
    "        print(chr(65+j), end=' ')\n",
    "    print()\n",
    "\n",
    "print()\n",
    "\n",
    "for i in range(1,height+1):\n",
    "    for j in range(1,i+1):\n",
    "        print(j,end=' ')\n",
    "    print()"
   ]
  },
  {
   "cell_type": "code",
   "execution_count": 16,
   "metadata": {},
   "outputs": [
    {
     "name": "stdout",
     "output_type": "stream",
     "text": [
      "E \n",
      "E D \n",
      "E D C \n",
      "E D C B \n",
      "E D C B A \n",
      "\n",
      "5 \n",
      "5 4 \n",
      "5 4 3 \n",
      "5 4 3 2 \n",
      "5 4 3 2 1 \n"
     ]
    }
   ],
   "source": [
    "for i in range(1,height+1):\n",
    "    for j in range(i):\n",
    "        print(chr(65+height-1-j), end=' ')\n",
    "    print()\n",
    "\n",
    "print()\n",
    "for i in range(1,height+1):\n",
    "    for j in range(1,i+1):\n",
    "        print(height+1-j,end=' ')\n",
    "    print()"
   ]
  },
  {
   "cell_type": "code",
   "execution_count": 17,
   "metadata": {},
   "outputs": [
    {
     "name": "stdout",
     "output_type": "stream",
     "text": [
      "A \n",
      "B B \n",
      "C C C \n",
      "D D D D \n",
      "E E E E E \n",
      "\n",
      "1 \n",
      "2 2 \n",
      "3 3 3 \n",
      "4 4 4 4 \n",
      "5 5 5 5 5 \n"
     ]
    }
   ],
   "source": [
    "for i in range(1,height+1):\n",
    "    for j in range(i):\n",
    "        print(chr(64+i), end=' ')\n",
    "    print()\n",
    "\n",
    "print()\n",
    "for i in range(1,height+1):\n",
    "    for j in range(i):\n",
    "        print(i,end=' ')\n",
    "    print()"
   ]
  },
  {
   "cell_type": "code",
   "execution_count": 18,
   "metadata": {},
   "outputs": [
    {
     "name": "stdout",
     "output_type": "stream",
     "text": [
      "E \n",
      "D D \n",
      "C C C \n",
      "B B B B \n",
      "A A A A A \n",
      "\n",
      "5 \n",
      "4 4 \n",
      "3 3 3 \n",
      "2 2 2 2 \n",
      "1 1 1 1 1 \n"
     ]
    }
   ],
   "source": [
    "for i in range(1,height+1):\n",
    "    for j in range(i):\n",
    "        print(chr(65+height-i), end=' ')\n",
    "    print()\n",
    "\n",
    "print()\n",
    "for i in range(1,height+1):\n",
    "    for j in range(i):\n",
    "        print(height+1-i,end=' ')\n",
    "    print()"
   ]
  }
 ],
 "metadata": {
  "kernelspec": {
   "display_name": "pythonenv",
   "language": "python",
   "name": "python3"
  },
  "language_info": {
   "codemirror_mode": {
    "name": "ipython",
    "version": 3
   },
   "file_extension": ".py",
   "mimetype": "text/x-python",
   "name": "python",
   "nbconvert_exporter": "python",
   "pygments_lexer": "ipython3",
   "version": "3.11.2"
  },
  "orig_nbformat": 4
 },
 "nbformat": 4,
 "nbformat_minor": 2
}
