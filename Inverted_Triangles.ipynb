{
 "cells": [
  {
   "cell_type": "code",
   "execution_count": 25,
   "metadata": {},
   "outputs": [],
   "source": [
    "height = 5\n",
    "digit = 2\n",
    "alphabet = \"B\""
   ]
  },
  {
   "cell_type": "code",
   "execution_count": 18,
   "metadata": {},
   "outputs": [
    {
     "name": "stdout",
     "output_type": "stream",
     "text": [
      "* * * * * \n",
      "* * * * \n",
      "* * * \n",
      "* * \n",
      "* \n",
      "\n",
      "B B B B B \n",
      "B B B B \n",
      "B B B \n",
      "B B \n",
      "B \n",
      "\n",
      "2 2 2 2 2 \n",
      "2 2 2 2 \n",
      "2 2 2 \n",
      "2 2 \n",
      "2 \n"
     ]
    }
   ],
   "source": [
    "for i in range(height,0,-1):\n",
    "    for j in range(i):\n",
    "        print('*', end=' ')\n",
    "    print()\n",
    "\n",
    "print()\n",
    "\n",
    "for i in range(height,0,-1):\n",
    "    for j in range(i):\n",
    "        print(alphabet, end=' ')\n",
    "    print()\n",
    "\n",
    "print()\n",
    "\n",
    "for i in range(height,0,-1):\n",
    "    for j in range(i):\n",
    "        print(str(digit), end=' ')\n",
    "    print()"
   ]
  },
  {
   "cell_type": "code",
   "execution_count": 19,
   "metadata": {},
   "outputs": [
    {
     "name": "stdout",
     "output_type": "stream",
     "text": [
      "A B C D E \n",
      "A B C D \n",
      "A B C \n",
      "A B \n",
      "A \n",
      "\n",
      "1 2 3 4 5 \n",
      "1 2 3 4 \n",
      "1 2 3 \n",
      "1 2 \n",
      "1 \n"
     ]
    }
   ],
   "source": [
    "for i in range(height,0,-1):\n",
    "    for j in range(i):\n",
    "        print(chr(65+j),end=' ')\n",
    "    print()\n",
    "\n",
    "print()\n",
    "for i in range(height,0,-1):\n",
    "    for j in range(i):\n",
    "        print(j+1,end=' ')\n",
    "    print()"
   ]
  },
  {
   "cell_type": "code",
   "execution_count": 20,
   "metadata": {},
   "outputs": [
    {
     "name": "stdout",
     "output_type": "stream",
     "text": [
      "E D C B A \n",
      "E D C B \n",
      "E D C \n",
      "E D \n",
      "E \n",
      "\n",
      "5 4 3 2 1 \n",
      "5 4 3 2 \n",
      "5 4 3 \n",
      "5 4 \n",
      "5 \n"
     ]
    }
   ],
   "source": [
    "for i in range(height,0,-1):\n",
    "    for j in range(i):\n",
    "        print((chr(64+height-j)),end=' ')\n",
    "    print()\n",
    "\n",
    "print()\n",
    "\n",
    "for i in range(height,0,-1):\n",
    "    for j in range(i):\n",
    "        print(height-j,end=' ')\n",
    "    print()"
   ]
  },
  {
   "cell_type": "code",
   "execution_count": 21,
   "metadata": {},
   "outputs": [
    {
     "name": "stdout",
     "output_type": "stream",
     "text": [
      "E E E E E \n",
      "D D D D \n",
      "C C C \n",
      "B B \n",
      "A \n",
      "\n",
      "5 5 5 5 5 \n",
      "4 4 4 4 \n",
      "3 3 3 \n",
      "2 2 \n",
      "1 \n"
     ]
    }
   ],
   "source": [
    "for i in range(height,0,-1):\n",
    "    for j in range(i):\n",
    "        print((chr(65+i-1)),end=' ')\n",
    "    print()\n",
    "\n",
    "print()\n",
    "for i in range(height,0,-1):\n",
    "    for j in range(i):\n",
    "        print(i,end=' ')\n",
    "    print()"
   ]
  },
  {
   "cell_type": "code",
   "execution_count": 22,
   "metadata": {},
   "outputs": [
    {
     "name": "stdout",
     "output_type": "stream",
     "text": [
      "A A A A A \n",
      "B B B B \n",
      "C C C \n",
      "D D \n",
      "E \n",
      "\n",
      "1 1 1 1 1 \n",
      "2 2 2 2 \n",
      "3 3 3 \n",
      "4 4 \n",
      "5 \n"
     ]
    }
   ],
   "source": [
    "for i in range(height,0,-1):\n",
    "    for j in range(i):\n",
    "        print(chr(65+height-i),end=' ')\n",
    "    print()\n",
    "\n",
    "print()\n",
    "\n",
    "for i in range(height,0,-1):\n",
    "    for j in range(i):\n",
    "        print(height-i+1,end=' ')\n",
    "    print()"
   ]
  },
  {
   "cell_type": "code",
   "execution_count": 38,
   "metadata": {},
   "outputs": [
    {
     "name": "stdout",
     "output_type": "stream",
     "text": [
      " * * * * * \n",
      "   * * * * \n",
      "     * * * \n",
      "       * * \n",
      "         * \n"
     ]
    }
   ],
   "source": [
    "for i in range(1,height+1):\n",
    "    print(\"  \"*(i-1),'* '*(height+1-i))"
   ]
  }
 ],
 "metadata": {
  "kernelspec": {
   "display_name": "pythonenv",
   "language": "python",
   "name": "python3"
  },
  "language_info": {
   "codemirror_mode": {
    "name": "ipython",
    "version": 3
   },
   "file_extension": ".py",
   "mimetype": "text/x-python",
   "name": "python",
   "nbconvert_exporter": "python",
   "pygments_lexer": "ipython3",
   "version": "3.11.2"
  },
  "orig_nbformat": 4
 },
 "nbformat": 4,
 "nbformat_minor": 2
}
